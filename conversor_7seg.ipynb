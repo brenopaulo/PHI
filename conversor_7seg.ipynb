{
  "nbformat": 4,
  "nbformat_minor": 0,
  "metadata": {
    "colab": {
      "provenance": []
    },
    "kernelspec": {
      "name": "python3",
      "display_name": "Python 3"
    },
    "language_info": {
      "name": "python"
    }
  },
  "cells": [
    {
      "cell_type": "code",
      "execution_count": null,
      "metadata": {
        "id": "m14lDi8dEeUu"
      },
      "outputs": [],
      "source": [
        "-- conversor.vhd\n",
        "library IEEE;\n",
        "use IEEE.STD_LOGIC_1164.ALL;\n",
        "use IEEE.STD_LOGIC_UNSIGNED.ALL;\n",
        "\n",
        "entity ascii_para_7seg is\n",
        "    Port (\n",
        "        caractere_ascii : in std_logic_vector(7 downto 0);\n",
        "        saida_seg       : out std_logic_vector(6 downto 0)  -- a-g\n",
        "    );\n",
        "end ascii_para_7seg;\n",
        "\n",
        "architecture Behavioral of ascii_para_7seg is\n",
        "begin\n",
        "    process(caractere_ascii)\n",
        "    begin\n",
        "        case caractere_ascii is\n",
        "            when x\"30\" => saida_seg <= \"0000001\"; -- '0'\n",
        "            when x\"31\" => saida_seg <= \"1001111\"; -- '1'\n",
        "            when x\"32\" => saida_seg <= \"0010010\"; -- '2'\n",
        "            when x\"33\" => saida_seg <= \"0000110\"; -- '3'\n",
        "            when x\"34\" => saida_seg <= \"1001100\"; -- '4'\n",
        "            when x\"35\" => saida_seg <= \"0100100\"; -- '5'\n",
        "            when x\"36\" => saida_seg <= \"0100000\"; -- '6'\n",
        "            when x\"37\" => saida_seg <= \"0001111\"; -- '7'\n",
        "            when x\"38\" => saida_seg <= \"0000000\"; -- '8'\n",
        "            when x\"39\" => saida_seg <= \"0000100\"; -- '9'\n",
        "            when x\"41\" => saida_seg <= \"0001000\"; -- 'A'\n",
        "            when x\"42\" => saida_seg <= \"1100000\"; -- 'B'\n",
        "            when x\"43\" => saida_seg <= \"0110001\"; -- 'C'\n",
        "            when x\"44\" => saida_seg <= \"1000010\"; -- 'D'\n",
        "            when x\"45\" => saida_seg <= \"0110000\"; -- 'E'\n",
        "            when x\"46\" => saida_seg <= \"0111000\"; -- 'F'\n",
        "            when others => saida_seg <= \"1111111\"; -- em branco ou invalido\n",
        "        end case;\n",
        "    end process;\n",
        "end Behavioral;"
      ]
    }
  ]
}